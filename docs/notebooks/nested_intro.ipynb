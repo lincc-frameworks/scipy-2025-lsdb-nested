{
 "cells": [
  {
   "cell_type": "markdown",
   "metadata": {},
   "source": [
    "# Introduction to Nested-Pandas\n",
    "\n",
    "This notebook explores the Nested-Pandas API, showing the basics of nesting data and touring the various ways of working with nested data."
   ]
  },
  {
   "cell_type": "markdown",
   "metadata": {},
   "source": [
    "## Exploring the NestedFrame Interface"
   ]
  },
  {
   "cell_type": "code",
   "execution_count": 20,
   "metadata": {},
   "outputs": [],
   "source": [
    "import nested_pandas as npd\n",
    "import light_curve as licu\n",
    "import pandas as pd\n",
    "import numpy as np\n",
    "\n",
    "from nested_pandas.utils import count_nested"
   ]
  },
  {
   "cell_type": "code",
   "execution_count": null,
   "metadata": {},
   "outputs": [
    {
     "data": {
      "text/html": [
       "<style type=\"text/css\">\n",
       "</style>\n",
       "<table id=\"T_528c3\">\n",
       "  <thead>\n",
       "    <tr>\n",
       "      <th class=\"blank level0\" >&nbsp;</th>\n",
       "      <th id=\"T_528c3_level0_col0\" class=\"col_heading level0 col0\" >a</th>\n",
       "      <th id=\"T_528c3_level0_col1\" class=\"col_heading level0 col1\" >b</th>\n",
       "      <th id=\"T_528c3_level0_col2\" class=\"col_heading level0 col2\" >nested</th>\n",
       "    </tr>\n",
       "  </thead>\n",
       "  <tbody>\n",
       "    <tr>\n",
       "      <th id=\"T_528c3_level0_row0\" class=\"row_heading level0 row0\" >0</th>\n",
       "      <td id=\"T_528c3_row0_col0\" class=\"data row0 col0\" >0.417022</td>\n",
       "      <td id=\"T_528c3_row0_col1\" class=\"data row0 col1\" >0.038734</td>\n",
       "      <td id=\"T_528c3_row0_col2\" class=\"data row0 col2\" ><table border=\"1\" class=\"dataframe\">\n",
       "  <thead>\n",
       "    <tr style=\"text-align: right;\">\n",
       "      <th>t</th>\n",
       "      <th>flux</th>\n",
       "      <th>band</th>\n",
       "    </tr>\n",
       "  </thead>\n",
       "  <tbody>\n",
       "  </tbody>\n",
       "</table><table border=\"1\" class=\"dataframe\">\n",
       "  <tbody>\n",
       "    <tr>\n",
       "      <td>6.532898</td>\n",
       "      <td>77.388964</td>\n",
       "      <td>r</td>\n",
       "    </tr>\n",
       "  </tbody>\n",
       "</table>\n",
       "<p>100 rows × 3 columns</p></td>\n",
       "    </tr>\n",
       "    <tr>\n",
       "      <th id=\"T_528c3_level0_row1\" class=\"row_heading level0 row1\" >1</th>\n",
       "      <td id=\"T_528c3_row1_col0\" class=\"data row1 col0\" >0.720324</td>\n",
       "      <td id=\"T_528c3_row1_col1\" class=\"data row1 col1\" >1.357671</td>\n",
       "      <td id=\"T_528c3_row1_col2\" class=\"data row1 col2\" ><table border=\"1\" class=\"dataframe\">\n",
       "  <tbody>\n",
       "    <tr>\n",
       "      <td>10.541162</td>\n",
       "      <td>82.03493</td>\n",
       "      <td>r</td>\n",
       "    </tr>\n",
       "  </tbody>\n",
       "</table>\n",
       "<p>100 rows × 3 columns</p></td>\n",
       "    </tr>\n",
       "    <tr>\n",
       "      <th id=\"T_528c3_level0_row2\" class=\"row_heading level0 row2\" >2</th>\n",
       "      <td id=\"T_528c3_row2_col0\" class=\"data row2 col0\" >0.000114</td>\n",
       "      <td id=\"T_528c3_row2_col1\" class=\"data row2 col1\" >0.423256</td>\n",
       "      <td id=\"T_528c3_row2_col2\" class=\"data row2 col2\" ><table border=\"1\" class=\"dataframe\">\n",
       "  <tbody>\n",
       "    <tr>\n",
       "      <td>17.718842</td>\n",
       "      <td>85.162961</td>\n",
       "      <td>r</td>\n",
       "    </tr>\n",
       "  </tbody>\n",
       "</table>\n",
       "<p>100 rows × 3 columns</p></td>\n",
       "    </tr>\n",
       "    <tr>\n",
       "      <th id=\"T_528c3_level0_row3\" class=\"row_heading level0 row3\" >3</th>\n",
       "      <td id=\"T_528c3_row3_col0\" class=\"data row3 col0\" >0.302333</td>\n",
       "      <td id=\"T_528c3_row3_col1\" class=\"data row3 col1\" >0.531093</td>\n",
       "      <td id=\"T_528c3_row3_col2\" class=\"data row3 col2\" ><table border=\"1\" class=\"dataframe\">\n",
       "  <tbody>\n",
       "    <tr>\n",
       "      <td>7.145395</td>\n",
       "      <td>15.152488</td>\n",
       "      <td>r</td>\n",
       "    </tr>\n",
       "  </tbody>\n",
       "</table>\n",
       "<p>100 rows × 3 columns</p></td>\n",
       "    </tr>\n",
       "    <tr>\n",
       "      <th id=\"T_528c3_level0_row4\" class=\"row_heading level0 row4\" >4</th>\n",
       "      <td id=\"T_528c3_row4_col0\" class=\"data row4 col0\" >0.146756</td>\n",
       "      <td id=\"T_528c3_row4_col1\" class=\"data row4 col1\" >0.983146</td>\n",
       "      <td id=\"T_528c3_row4_col2\" class=\"data row4 col2\" ><table border=\"1\" class=\"dataframe\">\n",
       "  <tbody>\n",
       "    <tr>\n",
       "      <td>18.170703</td>\n",
       "      <td>89.003664</td>\n",
       "      <td>r</td>\n",
       "    </tr>\n",
       "  </tbody>\n",
       "</table>\n",
       "<p>100 rows × 3 columns</p></td>\n",
       "    </tr>\n",
       "    <tr>\n",
       "      <th class=\"row_heading level0 row_trim\" >...</th>\n",
       "      <td class=\"data col0 row_trim\" >...</td>\n",
       "      <td class=\"data col1 row_trim\" >...</td>\n",
       "      <td class=\"data col2 row_trim\" >...</td>\n",
       "    </tr>\n",
       "  </tbody>\n",
       "</table>\n",
       "50 rows x 3 columns"
      ],
      "text/plain": [
       "           a         b                                             nested\n",
       "0   0.417022  0.038734  [{t: 6.532898, flux: 77.388964, band: 'r'}; …]...\n",
       "1   0.720324  1.357671  [{t: 10.541162, flux: 82.03493, band: 'r'}; …]...\n",
       "..       ...       ...                                                ...\n",
       "48  0.287775  0.005741  [{t: 11.19434, flux: 11.946375, band: 'r'}; …]...\n",
       "49  0.130029  1.234290  [{t: 0.25112, flux: 94.006251, band: 'g'}; …] ...\n",
       "\n",
       "[50 rows x 3 columns]"
      ]
     },
     "execution_count": 14,
     "metadata": {},
     "output_type": "execute_result"
    }
   ],
   "source": [
    "# Load an example dataset\n",
    "from nested_pandas.datasets import generate_data\n",
    "ndf = generate_data(50,100, seed=1)\n",
    "ndf"
   ]
  },
  {
   "cell_type": "markdown",
   "metadata": {},
   "source": [
    "## Approaches for Nesting Data"
   ]
  },
  {
   "cell_type": "markdown",
   "metadata": {},
   "source": []
  },
  {
   "cell_type": "markdown",
   "metadata": {},
   "source": [
    "## Performance Comparisons to Pandas"
   ]
  },
  {
   "cell_type": "markdown",
   "metadata": {},
   "source": [
    "### Taking Native Pandas Code"
   ]
  },
  {
   "cell_type": "code",
   "execution_count": 17,
   "metadata": {},
   "outputs": [
    {
     "name": "stdout",
     "output_type": "stream",
     "text": [
      "530 ms ± 7.33 ms per loop (mean ± std. dev. of 7 runs, 1 loop each)\n"
     ]
    }
   ],
   "source": [
    "%%timeit\n",
    "\n",
    "# Read data\n",
    "object_df = pd.read_parquet(\"data/objects.parquet\")\n",
    "source_df = pd.read_parquet(\"data/ztf_sources.parquet\")\n",
    "\n",
    "# Filter on object\n",
    "filtered_object = object_df.query(\"ra > 10.0\")\n",
    "#sync object to source --removes any index values of source not found in object\n",
    "filtered_source = filtered_object[[]].join(source_df, how=\"left\")\n",
    "\n",
    "# Count number of observations per photometric band and add it to the object table\n",
    "band_counts = source_df.groupby(level=0).apply(lambda x:\n",
    "                                               x[[\"band\"]].value_counts().reset_index()).pivot_table(values=\"count\",\n",
    "                                                                                                     index=\"index\",\n",
    "                                                                                                     columns=\"band\",\n",
    "                                                                                                     aggfunc=\"sum\")\n",
    "filtered_object = filtered_object.join(band_counts[[\"g\",\"r\"]])\n",
    "\n",
    "# Filter on our nobs\n",
    "filtered_object = filtered_object.query(\"g > 520\")\n",
    "filtered_source = filtered_object[[]].join(source_df, how=\"left\")\n",
    "\n",
    "# Calculate Amplitude\n",
    "amplitude = licu.Amplitude()\n",
    "filtered_source.groupby(level=0).apply(lambda x: amplitude(np.array(x.mjd), np.array(x.flux)))"
   ]
  },
  {
   "cell_type": "markdown",
   "metadata": {},
   "source": [
    "### Simplified and Faster with Nested-Pandas"
   ]
  },
  {
   "cell_type": "code",
   "execution_count": 21,
   "metadata": {},
   "outputs": [
    {
     "name": "stdout",
     "output_type": "stream",
     "text": [
      "251 ms ± 20.6 ms per loop (mean ± std. dev. of 7 runs, 1 loop each)\n"
     ]
    }
   ],
   "source": [
    "%%timeit\n",
    "\n",
    "#Read in parquet data\n",
    "#nesting sources into objects\n",
    "nf = npd.read_parquet(data=\"data/objects.parquet\",\n",
    "                  to_pack={\"ztf_sources\": \"data/ztf_sources.parquet\"})\n",
    "\n",
    "# Filter on object\n",
    "nf = nf.query(\"ra > 10.0\")\n",
    "\n",
    "# Count number of observations per photometric band and add it as a column\n",
    "nf = count_nested(nf, \"ztf_sources\", by=\"band\", join=True)\n",
    "\n",
    "# Filter on our nobs\n",
    "nf = nf.query(\"n_ztf_sources_g > 520\")\n",
    "\n",
    "# Calculate Amplitude\n",
    "amplitude = licu.Amplitude()\n",
    "nf.reduce(amplitude, \"ztf_sources.mjd\", \"ztf_sources.flux\")"
   ]
  },
  {
   "cell_type": "markdown",
   "metadata": {},
   "source": [
    "## Hands-on Scientific Example: Variability Analysis"
   ]
  },
  {
   "cell_type": "markdown",
   "metadata": {},
   "source": [
    "### Load and Nest ZTF Timeseries Data"
   ]
  },
  {
   "cell_type": "code",
   "execution_count": null,
   "metadata": {},
   "outputs": [],
   "source": []
  },
  {
   "cell_type": "markdown",
   "metadata": {},
   "source": [
    "### Perform Initial Filtering"
   ]
  },
  {
   "cell_type": "code",
   "execution_count": null,
   "metadata": {},
   "outputs": [],
   "source": []
  },
  {
   "cell_type": "markdown",
   "metadata": {},
   "source": [
    "### Calculate Periodograms for all Lightcurves"
   ]
  },
  {
   "cell_type": "code",
   "execution_count": null,
   "metadata": {},
   "outputs": [],
   "source": []
  },
  {
   "cell_type": "markdown",
   "metadata": {},
   "source": [
    "### Visualizing Results"
   ]
  },
  {
   "cell_type": "code",
   "execution_count": null,
   "metadata": {},
   "outputs": [],
   "source": []
  },
  {
   "cell_type": "markdown",
   "metadata": {},
   "source": [
    "### Using Results to Modify our NestedFrame"
   ]
  },
  {
   "cell_type": "markdown",
   "metadata": {},
   "source": []
  }
 ],
 "metadata": {
  "kernelspec": {
   "display_name": "lsdb",
   "language": "python",
   "name": "python3"
  },
  "language_info": {
   "codemirror_mode": {
    "name": "ipython",
    "version": 3
   },
   "file_extension": ".py",
   "mimetype": "text/x-python",
   "name": "python",
   "nbconvert_exporter": "python",
   "pygments_lexer": "ipython3",
   "version": "3.12.8"
  }
 },
 "nbformat": 4,
 "nbformat_minor": 2
}
